{
 "cells": [
  {
   "cell_type": "code",
   "execution_count": 6,
   "id": "c88a4b95",
   "metadata": {},
   "outputs": [
    {
     "data": {
      "text/plain": [
       "0    78\n",
       "1    92\n",
       "2    36\n",
       "3    64\n",
       "4    89\n",
       "dtype: int64"
      ]
     },
     "execution_count": 6,
     "metadata": {},
     "output_type": "execute_result"
    }
   ],
   "source": [
    "import pandas as pd\n",
    "Marks=([78,92,36,64,89])\n",
    "Marks_series=pd.Series(Marks)\n",
    "Marks_series"
   ]
  },
  {
   "cell_type": "code",
   "execution_count": 15,
   "id": "74484a54",
   "metadata": {},
   "outputs": [
    {
     "data": {
      "text/plain": [
       "array([78, 92, 36, 64, 89], dtype=int64)"
      ]
     },
     "execution_count": 15,
     "metadata": {},
     "output_type": "execute_result"
    }
   ],
   "source": [
    "Marks=([78,92,36,64,89])\n",
    "Marks_series=pd.Series(Marks).values\n",
    "Marks_series"
   ]
  },
  {
   "cell_type": "code",
   "execution_count": 16,
   "id": "1e9f18d9",
   "metadata": {},
   "outputs": [
    {
     "data": {
      "text/plain": [
       "RangeIndex(start=0, stop=5, step=1)"
      ]
     },
     "execution_count": 16,
     "metadata": {},
     "output_type": "execute_result"
    }
   ],
   "source": [
    "Marks=([78,92,36,64,89])\n",
    "Marks_series=pd.Series(Marks).index\n",
    "Marks_series"
   ]
  },
  {
   "cell_type": "code",
   "execution_count": 20,
   "id": "7026fbac",
   "metadata": {},
   "outputs": [
    {
     "data": {
      "text/plain": [
       "92"
      ]
     },
     "execution_count": 20,
     "metadata": {},
     "output_type": "execute_result"
    }
   ],
   "source": [
    "Marks=([78,92,36,64,89])\n",
    "Marks_series=pd.Series(Marks)\n",
    "Marks_series[1]"
   ]
  },
  {
   "cell_type": "code",
   "execution_count": 18,
   "id": "b4deae7e",
   "metadata": {},
   "outputs": [
    {
     "data": {
      "text/plain": [
       "1    92\n",
       "2    36\n",
       "dtype: int64"
      ]
     },
     "execution_count": 18,
     "metadata": {},
     "output_type": "execute_result"
    }
   ],
   "source": [
    "Marks=([78,92,36,64,89])\n",
    "Marks_series=pd.Series(Marks)\n",
    "Marks_series[1:3]"
   ]
  },
  {
   "cell_type": "code",
   "execution_count": null,
   "id": "c64111c6",
   "metadata": {},
   "outputs": [],
   "source": [
    "data=([700000,800000,1600000,1800000,3000000])\n",
    "index=['swift','jazz','civic','Altis','Gallardo'])"
   ]
  }
 ],
 "metadata": {
  "kernelspec": {
   "display_name": "Python 3 (ipykernel)",
   "language": "python",
   "name": "python3"
  },
  "language_info": {
   "codemirror_mode": {
    "name": "ipython",
    "version": 3
   },
   "file_extension": ".py",
   "mimetype": "text/x-python",
   "name": "python",
   "nbconvert_exporter": "python",
   "pygments_lexer": "ipython3",
   "version": "3.11.3"
  }
 },
 "nbformat": 4,
 "nbformat_minor": 5
}
