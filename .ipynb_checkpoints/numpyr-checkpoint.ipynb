{
 "cells": [
  {
   "cell_type": "code",
   "execution_count": 2,
   "id": "21f27170",
   "metadata": {},
   "outputs": [
    {
     "name": "stdout",
     "output_type": "stream",
     "text": [
      "(array([1, 2, 3], dtype=int64),)\n"
     ]
    },
    {
     "data": {
      "text/plain": [
       "array([165, 150, 150])"
      ]
     },
     "execution_count": 2,
     "metadata": {},
     "output_type": "execute_result"
    }
   ],
   "source": [
    "import numpy as np\n",
    "horsepower_arr=np.array([130,165,150,150,140])\n",
    "x=np.where(horsepower_arr>=150)\n",
    "print(x)\n",
    "horsepower_arr[x]"
   ]
  },
  {
   "cell_type": "code",
   "execution_count": 3,
   "id": "6ea196e8",
   "metadata": {},
   "outputs": [
    {
     "data": {
      "text/plain": [
       "array([[67, 45],\n",
       "       [90, 92],\n",
       "       [66, 72],\n",
       "       [32, 40]])"
      ]
     },
     "execution_count": 3,
     "metadata": {},
     "output_type": "execute_result"
    }
   ],
   "source": [
    "student_marks=[[67,45],[90,92],[66,72],[32,40]]\n",
    "student_marks_arr=np.array(student_marks)\n",
    "student_marks_arr"
   ]
  },
  {
   "cell_type": "code",
   "execution_count": 4,
   "id": "419f7eba",
   "metadata": {},
   "outputs": [
    {
     "name": "stdout",
     "output_type": "stream",
     "text": [
      "original array: [130 165 150 150 140]\n"
     ]
    }
   ],
   "source": [
    "horsepower=[130,165,150,150,140]\n",
    "horsepower_arr=np.array(horsepower)\n",
    "print('original array:',horsepower_arr)"
   ]
  },
  {
   "cell_type": "code",
   "execution_count": 5,
   "id": "faf7ef00",
   "metadata": {},
   "outputs": [
    {
     "name": "stdout",
     "output_type": "stream",
     "text": [
      "sorted array: [130 140 150 150 165]\n"
     ]
    }
   ],
   "source": [
    "horsepower=[130,165,150,150,140]\n",
    "horsepower_arr=np.array(horsepower)\n",
    "print('sorted array:',np.sort(horsepower_arr))"
   ]
  },
  {
   "cell_type": "code",
   "execution_count": 6,
   "id": "4df3add0",
   "metadata": {},
   "outputs": [
    {
     "name": "stdout",
     "output_type": "stream",
     "text": [
      "original array after sorting: [130 165 150 150 140]\n"
     ]
    }
   ],
   "source": [
    "horsepower=[130,165,150,150,140]\n",
    "horsepower_arr=np.array(horsepower)\n",
    "print('original array after sorting:',horsepower_arr)"
   ]
  },
  {
   "cell_type": "code",
   "execution_count": 7,
   "id": "75f53cf1",
   "metadata": {},
   "outputs": [
    {
     "name": "stdout",
     "output_type": "stream",
     "text": [
      "original array: [130 165 150 150 140]\n",
      "sorted array: [130 140 150 150 165]\n",
      "original array after sorting: [130 165 150 150 140]\n"
     ]
    }
   ],
   "source": [
    "horsepower=[130,165,150,150,140]\n",
    "horsepower_arr=np.array(horsepower)\n",
    "print('original array:',horsepower_arr)\n",
    "print('sorted array:',np.sort(horsepower_arr))\n",
    "print('original array after sorting:',horsepower_arr)"
   ]
  },
  {
   "cell_type": "code",
   "execution_count": 9,
   "id": "52ba2514",
   "metadata": {},
   "outputs": [
    {
     "name": "stdout",
     "output_type": "stream",
     "text": [
      "original array: [130 165 150 150 140]\n",
      "original array after sorting: [130 140 150 150 165]\n"
     ]
    }
   ],
   "source": [
    "horsepower=[130,165,150,150,140]\n",
    "horsepower_arr=np.array(horsepower)\n",
    "print('original array:',horsepower_arr)\n",
    "horsepower_arr.sort()\n",
    "print('original array after sorting:',horsepower_arr)"
   ]
  },
  {
   "cell_type": "code",
   "execution_count": 10,
   "id": "86577ec3",
   "metadata": {},
   "outputs": [
    {
     "name": "stdout",
     "output_type": "stream",
     "text": [
      "359\n"
     ]
    }
   ],
   "source": [
    "student_marks=[78,92,36,64,89]\n",
    "student_marks_arr=np.sum(student_marks)\n",
    "print(student_marks_arr)"
   ]
  },
  {
   "cell_type": "code",
   "execution_count": 23,
   "id": "47d63ff8",
   "metadata": {},
   "outputs": [
    {
     "data": {
      "text/plain": [
       "array([[ 72,  55],\n",
       "       [ 95, 102],\n",
       "       [ 71,  82],\n",
       "       [ 37,  50]])"
      ]
     },
     "execution_count": 23,
     "metadata": {},
     "output_type": "execute_result"
    }
   ],
   "source": [
    "student_marks=[[67,45],[90,92],[66,72],[32,40]]\n",
    "student_marks_arr=np.array(student_marks)\n",
    "student_marks_arr += [5,10]\n",
    "student_marks_arr"
   ]
  },
  {
   "cell_type": "code",
   "execution_count": 24,
   "id": "3ef2fd06",
   "metadata": {},
   "outputs": [
    {
     "name": "stdout",
     "output_type": "stream",
     "text": [
      "359\n"
     ]
    }
   ],
   "source": [
    "student_marks=[78,92,36,64,89]\n",
    "student_marks_arr=np.array(student_marks)\n",
    "print(np.sum(student_marks_arr))"
   ]
  },
  {
   "cell_type": "code",
   "execution_count": 25,
   "id": "c34ce88b",
   "metadata": {},
   "outputs": [
    {
     "data": {
      "text/plain": [
       "array([80, 94, 41, 74, 91])"
      ]
     },
     "execution_count": 25,
     "metadata": {},
     "output_type": "execute_result"
    }
   ],
   "source": [
    "student_marks=[78,92,36,64,89]\n",
    "student_marks_arr=np.array(student_marks)\n",
    "additional_marks=[2,2,5,10,2]\n",
    "student_marks_arr+=additional_marks\n",
    "student_marks_arr"
   ]
  },
  {
   "cell_type": "code",
   "execution_count": 26,
   "id": "2641cd1e",
   "metadata": {},
   "outputs": [
    {
     "data": {
      "text/plain": [
       "array([80, 94, 41, 74, 91])"
      ]
     },
     "execution_count": 26,
     "metadata": {},
     "output_type": "execute_result"
    }
   ],
   "source": [
    "student_marks=[78,92,36,64,89]\n",
    "student_marks_arr=np.array(student_marks)\n",
    "student_marks_arr=np.add(student_marks_arr,additional_marks)\n",
    "student_marks_arr"
   ]
  },
  {
   "cell_type": "code",
   "execution_count": 27,
   "id": "42d3ee36",
   "metadata": {},
   "outputs": [
    {
     "data": {
      "text/plain": [
       "array([25, 50, 75])"
      ]
     },
     "execution_count": 27,
     "metadata": {},
     "output_type": "execute_result"
    }
   ],
   "source": [
    "array1=np.array([5,10,15])\n",
    "array2=np.array([5])\n",
    "array3=array1*array2\n",
    "array3\n"
   ]
  },
  {
   "cell_type": "code",
   "execution_count": 36,
   "id": "f50e8891",
   "metadata": {},
   "outputs": [
    {
     "data": {
      "text/plain": [
       "array([   0,    1,    2, ..., 9997, 9998, 9999])"
      ]
     },
     "execution_count": 36,
     "metadata": {},
     "output_type": "execute_result"
    }
   ],
   "source": [
    "import numpy as np\n",
    "arange_arr=np.arange(0,10000)\n",
    "arange_arr"
   ]
  },
  {
   "cell_type": "code",
   "execution_count": 37,
   "id": "56a2ef02",
   "metadata": {},
   "outputs": [
    {
     "data": {
      "text/plain": [
       "array([0, 2, 4, 6, 8])"
      ]
     },
     "execution_count": 37,
     "metadata": {},
     "output_type": "execute_result"
    }
   ],
   "source": [
    "arange_arr=np.arange(0,10,2)\n",
    "arange_arr"
   ]
  },
  {
   "cell_type": "code",
   "execution_count": 40,
   "id": "69893892",
   "metadata": {},
   "outputs": [
    {
     "name": "stdout",
     "output_type": "stream",
     "text": [
      "[ 0.          0.20408163  0.40816327  0.6122449   0.81632653  1.02040816\n",
      "  1.2244898   1.42857143  1.63265306  1.83673469  2.04081633  2.24489796\n",
      "  2.44897959  2.65306122  2.85714286  3.06122449  3.26530612  3.46938776\n",
      "  3.67346939  3.87755102  4.08163265  4.28571429  4.48979592  4.69387755\n",
      "  4.89795918  5.10204082  5.30612245  5.51020408  5.71428571  5.91836735\n",
      "  6.12244898  6.32653061  6.53061224  6.73469388  6.93877551  7.14285714\n",
      "  7.34693878  7.55102041  7.75510204  7.95918367  8.16326531  8.36734694\n",
      "  8.57142857  8.7755102   8.97959184  9.18367347  9.3877551   9.59183673\n",
      "  9.79591837 10.        ]\n",
      "length of arr: 50\n"
     ]
    }
   ],
   "source": [
    "#generating values between 0 and 10\n",
    "arr=np.linspace(0,10)\n",
    "print(arr)\n",
    "print('length of arr:',len(arr))"
   ]
  },
  {
   "cell_type": "code",
   "execution_count": 55,
   "id": "b3325d5a",
   "metadata": {},
   "outputs": [
    {
     "data": {
      "text/plain": [
       "array([ 0.,  5., 10.])"
      ]
     },
     "execution_count": 55,
     "metadata": {},
     "output_type": "execute_result"
    }
   ],
   "source": [
    "import numpy as np\n",
    "#number of values=3\n",
    "arange_arr=np.linspace(0,10,3)\n",
    "arange_arr"
   ]
  },
  {
   "cell_type": "code",
   "execution_count": 56,
   "id": "8443c128",
   "metadata": {},
   "outputs": [
    {
     "data": {
      "text/plain": [
       "array([0., 0., 0., 0., 0.])"
      ]
     },
     "execution_count": 56,
     "metadata": {},
     "output_type": "execute_result"
    }
   ],
   "source": [
    "#1d\n",
    "arange_arr=np.zeros(5)\n",
    "arange_arr"
   ]
  },
  {
   "cell_type": "code",
   "execution_count": 57,
   "id": "a7732f9c",
   "metadata": {},
   "outputs": [
    {
     "data": {
      "text/plain": [
       "array([[0., 0., 0.],\n",
       "       [0., 0., 0.]])"
      ]
     },
     "execution_count": 57,
     "metadata": {},
     "output_type": "execute_result"
    }
   ],
   "source": [
    "#2d\n",
    "arange_arr=np.zeros([2,3])\n",
    "arange_arr"
   ]
  },
  {
   "cell_type": "code",
   "execution_count": 58,
   "id": "7274a917",
   "metadata": {},
   "outputs": [
    {
     "data": {
      "text/plain": [
       "array([[[0., 0., 0., 0.],\n",
       "        [0., 0., 0., 0.],\n",
       "        [0., 0., 0., 0.]],\n",
       "\n",
       "       [[0., 0., 0., 0.],\n",
       "        [0., 0., 0., 0.],\n",
       "        [0., 0., 0., 0.]]])"
      ]
     },
     "execution_count": 58,
     "metadata": {},
     "output_type": "execute_result"
    }
   ],
   "source": [
    "#3d\n",
    "arange_arr=np.zeros([2,3,4])\n",
    "arange_arr"
   ]
  },
  {
   "cell_type": "code",
   "execution_count": 59,
   "id": "1a3a41f3",
   "metadata": {},
   "outputs": [
    {
     "data": {
      "text/plain": [
       "array([1., 1., 1.])"
      ]
     },
     "execution_count": 59,
     "metadata": {},
     "output_type": "execute_result"
    }
   ],
   "source": [
    "#1d\n",
    "arange_arr=np.ones(3)\n",
    "arange_arr"
   ]
  },
  {
   "cell_type": "code",
   "execution_count": 60,
   "id": "78f45646",
   "metadata": {},
   "outputs": [
    {
     "data": {
      "text/plain": [
       "array([[1., 1., 1., 1.],\n",
       "       [1., 1., 1., 1.]])"
      ]
     },
     "execution_count": 60,
     "metadata": {},
     "output_type": "execute_result"
    }
   ],
   "source": [
    "#2d\n",
    "arange_arr=np.ones([2,4])\n",
    "arange_arr"
   ]
  },
  {
   "cell_type": "code",
   "execution_count": 62,
   "id": "357fe863",
   "metadata": {},
   "outputs": [
    {
     "data": {
      "text/plain": [
       "array([[[1., 1.],\n",
       "        [1., 1.],\n",
       "        [1., 1.]],\n",
       "\n",
       "       [[1., 1.],\n",
       "        [1., 1.],\n",
       "        [1., 1.]],\n",
       "\n",
       "       [[1., 1.],\n",
       "        [1., 1.],\n",
       "        [1., 1.]]])"
      ]
     },
     "execution_count": 62,
     "metadata": {},
     "output_type": "execute_result"
    }
   ],
   "source": [
    "#3d\n",
    "arange_arr=np.ones([3,3,2])\n",
    "arange_arr"
   ]
  },
  {
   "cell_type": "code",
   "execution_count": 63,
   "id": "56861547",
   "metadata": {},
   "outputs": [
    {
     "data": {
      "text/plain": [
       "array([8, 8, 8, 8, 8])"
      ]
     },
     "execution_count": 63,
     "metadata": {},
     "output_type": "execute_result"
    }
   ],
   "source": [
    "#number=5,value=8\n",
    "arange_arr=np.full(5,8)\n",
    "arange_arr"
   ]
  },
  {
   "cell_type": "code",
   "execution_count": 65,
   "id": "c4640ff6",
   "metadata": {},
   "outputs": [
    {
     "data": {
      "text/plain": [
       "array([['AIML', 'AIML', 'AIML'],\n",
       "       ['AIML', 'AIML', 'AIML'],\n",
       "       ['AIML', 'AIML', 'AIML']], dtype='<U4')"
      ]
     },
     "execution_count": 65,
     "metadata": {},
     "output_type": "execute_result"
    }
   ],
   "source": [
    "#shape=[3,3],value=AIML\n",
    "arange_arr=np.full([3,3],'AIML')\n",
    "arange_arr"
   ]
  },
  {
   "cell_type": "code",
   "execution_count": 66,
   "id": "06fbbb17",
   "metadata": {},
   "outputs": [
    {
     "data": {
      "text/plain": [
       "array([[1., 0., 0., 0.],\n",
       "       [0., 1., 0., 0.],\n",
       "       [0., 0., 1., 0.],\n",
       "       [0., 0., 0., 1.]])"
      ]
     },
     "execution_count": 66,
     "metadata": {},
     "output_type": "execute_result"
    }
   ],
   "source": [
    "#3x3 identity matrix\n",
    "arange_arr=np.eye(4)\n",
    "arange_arr"
   ]
  },
  {
   "cell_type": "code",
   "execution_count": 80,
   "id": "f24ba884",
   "metadata": {},
   "outputs": [
    {
     "data": {
      "text/plain": [
       "array([0.38350418, 0.48933517, 0.20347498, 0.39162025, 0.49601273])"
      ]
     },
     "execution_count": 80,
     "metadata": {},
     "output_type": "execute_result"
    }
   ],
   "source": [
    "#generating 5 random numbers from a uniform distribution\n",
    "import numpy as np\n",
    "arange_arr=np.random.rand(5)\n",
    "arange_arr"
   ]
  },
  {
   "cell_type": "code",
   "execution_count": 84,
   "id": "e5056b38",
   "metadata": {},
   "outputs": [
    {
     "data": {
      "text/plain": [
       "array([5, 9, 6, 6, 5])"
      ]
     },
     "execution_count": 84,
     "metadata": {},
     "output_type": "execute_result"
    }
   ],
   "source": [
    "#random integer values low=1,high=10, number of values=5\n",
    "import numpy as np\n",
    "arange_arr=np.random.randint(1,10, size=5)\n",
    "arange_arr"
   ]
  },
  {
   "cell_type": "code",
   "execution_count": 86,
   "id": "b1c9f891",
   "metadata": {},
   "outputs": [
    {
     "name": "stdout",
     "output_type": "stream",
     "text": [
      "[[ 8 91 57 90  5]\n",
      " [ 9  8 89  9 70]\n",
      " [60 37  6 11 88]]\n",
      "<class 'numpy.ndarray'>\n"
     ]
    }
   ],
   "source": [
    "#random integer values high=100, shape=(3,5)\n",
    "import numpy as np\n",
    "arange_arr=np.random.randint(100, size=(3,5))\n",
    "print(arange_arr)\n",
    "print(type(arange_arr))"
   ]
  },
  {
   "cell_type": "code",
   "execution_count": 88,
   "id": "3b54b452",
   "metadata": {},
   "outputs": [
    {
     "name": "stdout",
     "output_type": "stream",
     "text": [
      "5\n"
     ]
    }
   ],
   "source": [
    "#return a single random value from the array\n",
    "arange_arr=np.random.choice([9,3,7,5])\n",
    "print(arange_arr)"
   ]
  },
  {
   "cell_type": "code",
   "execution_count": 95,
   "id": "3b8c2798",
   "metadata": {},
   "outputs": [
    {
     "name": "stdout",
     "output_type": "stream",
     "text": [
      "[[7 7 3 9 3]\n",
      " [7 3 3 3 3]\n",
      " [3 5 7 7 9]]\n",
      "<class 'numpy.ndarray'>\n"
     ]
    }
   ],
   "source": [
    "#returns 3*5 random values from the array\n",
    "arange_arr=np.random.choice([9,3,7,5],size=(3,5))\n",
    "print(arange_arr)\n",
    "print(type(arange_arr))"
   ]
  },
  {
   "cell_type": "code",
   "execution_count": null,
   "id": "ab4abeda",
   "metadata": {},
   "outputs": [],
   "source": []
  }
 ],
 "metadata": {
  "kernelspec": {
   "display_name": "Python 3 (ipykernel)",
   "language": "python",
   "name": "python3"
  },
  "language_info": {
   "codemirror_mode": {
    "name": "ipython",
    "version": 3
   },
   "file_extension": ".py",
   "mimetype": "text/x-python",
   "name": "python",
   "nbconvert_exporter": "python",
   "pygments_lexer": "ipython3",
   "version": "3.11.3"
  }
 },
 "nbformat": 4,
 "nbformat_minor": 5
}
