{
 "cells": [
  {
   "cell_type": "code",
   "execution_count": 5,
   "id": "5164a260",
   "metadata": {},
   "outputs": [
    {
     "data": {
      "text/plain": [
       "0    78\n",
       "1    92\n",
       "2    36\n",
       "3    64\n",
       "4    89\n",
       "dtype: int64"
      ]
     },
     "execution_count": 5,
     "metadata": {},
     "output_type": "execute_result"
    }
   ],
   "source": [
    "import pandas as pd\n",
    "Maraks=([78,92,36,64,89])\n",
    "Marks_series=pd.Series(Marks)\n",
    "Marks_series"
   ]
  },
  {
   "cell_type": "code",
   "execution_count": 15,
   "id": "dd65f638",
   "metadata": {},
   "outputs": [
    {
     "data": {
      "text/plain": [
       "array([78, 92, 36, 64, 89], dtype=int64)"
      ]
     },
     "execution_count": 15,
     "metadata": {},
     "output_type": "execute_result"
    }
   ],
   "source": [
    "Marks=([78,92,36,64,89])\n",
    "Marks_series=pd.Series(Marks).values\n",
    "Marks_series"
   ]
  },
  {
   "cell_type": "code",
   "execution_count": 16,
   "id": "8c885bdf",
   "metadata": {},
   "outputs": [
    {
     "data": {
      "text/plain": [
       "RangeIndex(start=0, stop=5, step=1)"
      ]
     },
     "execution_count": 16,
     "metadata": {},
     "output_type": "execute_result"
    }
   ],
   "source": [
    "Marks=([78,92,36,64,89])\n",
    "Marks_series=pd.Series(Marks).index\n",
    "Marks_series"
   ]
  },
  {
   "cell_type": "code",
   "execution_count": 20,
   "id": "090cfbb9",
   "metadata": {},
   "outputs": [
    {
     "data": {
      "text/plain": [
       "92"
      ]
     },
     "execution_count": 20,
     "metadata": {},
     "output_type": "execute_result"
    }
   ],
   "source": [
    "Marks=([78,92,36,64,89])\n",
    "Marks_series=pd.Series(Marks)\n",
    "Marks_series[1]"
   ]
  },
  {
   "cell_type": "code",
   "execution_count": 18,
   "id": "a2de675c",
   "metadata": {},
   "outputs": [
    {
     "data": {
      "text/plain": [
       "1    92\n",
       "2    36\n",
       "dtype: int64"
      ]
     },
     "execution_count": 18,
     "metadata": {},
     "output_type": "execute_result"
    }
   ],
   "source": [
    "Marks=([78,92,36,64,89])\n",
    "Marks_series=pd.Series(Marks)\n",
    "Marks_series[1:3]"
   ]
  },
  {
   "cell_type": "code",
   "execution_count": 21,
   "id": "537a12b4",
   "metadata": {},
   "outputs": [
    {
     "data": {
      "text/plain": [
       "swift        700000\n",
       "jazz         800000\n",
       "civic       1600000\n",
       "Altis       1800000\n",
       "Gallardo    3000000\n",
       "dtype: int64"
      ]
     },
     "execution_count": 21,
     "metadata": {},
     "output_type": "execute_result"
    }
   ],
   "source": [
    "data=([700000,800000,1600000,1800000,3000000])\n",
    "index=(['swift','jazz','civic','Altis','Gallardo'])\n",
    "data_index=pd.Series(data,index)\n",
    "data_index"
   ]
  },
  {
   "cell_type": "code",
   "execution_count": 11,
   "id": "fe7a77e6",
   "metadata": {},
   "outputs": [
    {
     "data": {
      "text/plain": [
       "700000"
      ]
     },
     "execution_count": 11,
     "metadata": {},
     "output_type": "execute_result"
    }
   ],
   "source": [
    "data=([700000,800000,1600000,1800000,3000000])\n",
    "index=(['swift','jazz','civic','Altis','Gallardo'])\n",
    "data_index=pd.Series(data,index)\n",
    "data_index['swift']"
   ]
  },
  {
   "cell_type": "code",
   "execution_count": 12,
   "id": "371c2dff",
   "metadata": {},
   "outputs": [
    {
     "data": {
      "text/plain": [
       "jazz         800000\n",
       "civic       1600000\n",
       "Altis       1800000\n",
       "Gallardo    3000000\n",
       "dtype: int64"
      ]
     },
     "execution_count": 12,
     "metadata": {},
     "output_type": "execute_result"
    }
   ],
   "source": [
    "data=([700000,800000,1600000,1800000,3000000])\n",
    "index=(['swift','jazz','civic','Altis','Gallardo'])\n",
    "data_index=pd.Series(data,index)\n",
    "data_index['jazz':'Gallardo']"
   ]
  },
  {
   "cell_type": "code",
   "execution_count": 13,
   "id": "2a617132",
   "metadata": {},
   "outputs": [
    {
     "data": {
      "text/plain": [
       "swift        700000\n",
       "jazz         800000\n",
       "civic       1600000\n",
       "altis       1800000\n",
       "gallado    30000000\n",
       "dtype: int64"
      ]
     },
     "execution_count": 13,
     "metadata": {},
     "output_type": "execute_result"
    }
   ],
   "source": [
    "#using dictionary to create a series\n",
    "car_price_dict={'swift':700000,\n",
    "               'jazz':800000,\n",
    "               'civic':1600000,\n",
    "               'altis':1800000,\n",
    "               'gallado':30000000}\n",
    "car_price=pd.Series(car_price_dict)\n",
    "car_price"
   ]
  },
  {
   "cell_type": "code",
   "execution_count": 14,
   "id": "f32f90e9",
   "metadata": {},
   "outputs": [
    {
     "data": {
      "text/plain": [
       "swift            maruti\n",
       "jazz              honda\n",
       "civic             honda\n",
       "altis            toyota\n",
       "gallardo    lamborghini\n",
       "dtype: object"
      ]
     },
     "execution_count": 14,
     "metadata": {},
     "output_type": "execute_result"
    }
   ],
   "source": [
    "#creating the car manufacturer series with a dictionary\n",
    "car_man_dict={'swift':'maruti',\n",
    "             'jazz':'honda',\n",
    "             'civic':'honda',\n",
    "             'altis':'toyota',\n",
    "             'gallardo':'lamborghini'}\n",
    "car_man=pd.Series(car_man_dict)\n",
    "car_man"
   ]
  },
  {
   "cell_type": "code",
   "execution_count": 16,
   "id": "0a9b081b",
   "metadata": {},
   "outputs": [
    {
     "name": "stdout",
     "output_type": "stream",
     "text": [
      "swift        700000\n",
      "jazz         800000\n",
      "civic       1600000\n",
      "altis       1800000\n",
      "gallado    30000000\n",
      "dtype: int64\n",
      "swift            maruti\n",
      "jazz              honda\n",
      "civic             honda\n",
      "altis            toyota\n",
      "gallardo    lamborghini\n",
      "dtype: object\n"
     ]
    }
   ],
   "source": [
    "car_price_dict={'swift':700000,\n",
    "               'jazz':800000,\n",
    "               'civic':1600000,\n",
    "               'altis':1800000,\n",
    "               'gallado':30000000}\n",
    "car_price=pd.Series(car_price_dict)\n",
    "car_man_dict={'swift':'maruti',\n",
    "             'jazz':'honda',\n",
    "             'civic':'honda',\n",
    "             'altis':'toyota',\n",
    "             'gallardo':'lamborghini'}\n",
    "car_man=pd.Series(car_man_dict)\n",
    "print(car_price)\n",
    "print(car_man)\n"
   ]
  },
  {
   "cell_type": "code",
   "execution_count": 27,
   "id": "8d9c660a",
   "metadata": {},
   "outputs": [
    {
     "data": {
      "text/html": [
       "<div>\n",
       "<style scoped>\n",
       "    .dataframe tbody tr th:only-of-type {\n",
       "        vertical-align: middle;\n",
       "    }\n",
       "\n",
       "    .dataframe tbody tr th {\n",
       "        vertical-align: top;\n",
       "    }\n",
       "\n",
       "    .dataframe thead th {\n",
       "        text-align: right;\n",
       "    }\n",
       "</style>\n",
       "<table border=\"1\" class=\"dataframe\">\n",
       "  <thead>\n",
       "    <tr style=\"text-align: right;\">\n",
       "      <th></th>\n",
       "      <th>price</th>\n",
       "      <th>manufacturer</th>\n",
       "    </tr>\n",
       "  </thead>\n",
       "  <tbody>\n",
       "    <tr>\n",
       "      <th>altis</th>\n",
       "      <td>1800000.0</td>\n",
       "      <td>toyota</td>\n",
       "    </tr>\n",
       "    <tr>\n",
       "      <th>civic</th>\n",
       "      <td>1600000.0</td>\n",
       "      <td>honda</td>\n",
       "    </tr>\n",
       "    <tr>\n",
       "      <th>gallado</th>\n",
       "      <td>30000000.0</td>\n",
       "      <td>NaN</td>\n",
       "    </tr>\n",
       "    <tr>\n",
       "      <th>gallardo</th>\n",
       "      <td>NaN</td>\n",
       "      <td>lamborghini</td>\n",
       "    </tr>\n",
       "    <tr>\n",
       "      <th>jazz</th>\n",
       "      <td>800000.0</td>\n",
       "      <td>honda</td>\n",
       "    </tr>\n",
       "    <tr>\n",
       "      <th>swift</th>\n",
       "      <td>700000.0</td>\n",
       "      <td>maruti</td>\n",
       "    </tr>\n",
       "  </tbody>\n",
       "</table>\n",
       "</div>"
      ],
      "text/plain": [
       "               price manufacturer\n",
       "altis      1800000.0       toyota\n",
       "civic      1600000.0        honda\n",
       "gallado   30000000.0          NaN\n",
       "gallardo         NaN  lamborghini\n",
       "jazz        800000.0        honda\n",
       "swift       700000.0       maruti"
      ]
     },
     "execution_count": 27,
     "metadata": {},
     "output_type": "execute_result"
    }
   ],
   "source": [
    "car_price_dict={'swift':700000,\n",
    "               'jazz':800000,\n",
    "               'civic':1600000,\n",
    "               'altis':1800000,\n",
    "               'gallado':30000000}\n",
    "car_price=pd.Series(car_price_dict)\n",
    "car_man_dict={'swift':'maruti',\n",
    "             'jazz':'honda',\n",
    "             'civic':'honda',\n",
    "             'altis':'toyota',\n",
    "             'gallardo':'lamborghini'}\n",
    "car_man=pd.Series(car_man_dict)\n",
    "cars=pd.DataFrame({'price':car_price,'manufacturer':car_man})\n",
    "cars"
   ]
  },
  {
   "cell_type": "code",
   "execution_count": 22,
   "id": "0478f1ad",
   "metadata": {},
   "outputs": [
    {
     "data": {
      "text/plain": [
       "altis        1800000.0\n",
       "civic        1600000.0\n",
       "gallado     30000000.0\n",
       "gallardo           NaN\n",
       "jazz          800000.0\n",
       "swift         700000.0\n",
       "Name: price, dtype: float64"
      ]
     },
     "execution_count": 22,
     "metadata": {},
     "output_type": "execute_result"
    }
   ],
   "source": [
    "cars=pd.DataFrame({'price':car_price,'manufacturer':car_man})\n",
    "cars['price']"
   ]
  },
  {
   "cell_type": "code",
   "execution_count": 23,
   "id": "7689d93b",
   "metadata": {},
   "outputs": [
    {
     "data": {
      "text/plain": [
       "altis            toyota\n",
       "civic             honda\n",
       "gallado             NaN\n",
       "gallardo    lamborghini\n",
       "jazz              honda\n",
       "swift            maruti\n",
       "Name: manufacturer, dtype: object"
      ]
     },
     "execution_count": 23,
     "metadata": {},
     "output_type": "execute_result"
    }
   ],
   "source": [
    "cars=pd.DataFrame({'price':car_price,'manufacturer':car_man})\n",
    "cars['manufacturer']"
   ]
  },
  {
   "cell_type": "code",
   "execution_count": 11,
   "id": "579dcd54",
   "metadata": {},
   "outputs": [],
   "source": [
    "import pandas as pd\n",
    "data_csv=pd.read_csv('dataset/auto-mpg.csv',)\n",
    "data_csv"
   ]
  },
  {
   "cell_type": "code",
   "execution_count": null,
   "id": "bb0c54b1",
   "metadata": {},
   "outputs": [],
   "source": []
  }
 ],
 "metadata": {
  "kernelspec": {
   "display_name": "Python 3 (ipykernel)",
   "language": "python",
   "name": "python3"
  },
  "language_info": {
   "codemirror_mode": {
    "name": "ipython",
    "version": 3
   },
   "file_extension": ".py",
   "mimetype": "text/x-python",
   "name": "python",
   "nbconvert_exporter": "python",
   "pygments_lexer": "ipython3",
   "version": "3.11.3"
  }
 },
 "nbformat": 4,
 "nbformat_minor": 5
}
