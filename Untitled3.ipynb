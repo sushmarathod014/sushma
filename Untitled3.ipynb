{
 "cells": [
  {
   "cell_type": "code",
   "execution_count": 1,
   "id": "6e7fd060",
   "metadata": {},
   "outputs": [
    {
     "data": {
      "text/plain": [
       "array([[   1, 6012],\n",
       "       [   2, 7079],\n",
       "       [   3, 6886],\n",
       "       [   4, 7230],\n",
       "       [   5, 4598],\n",
       "       [   6, 5564],\n",
       "       [   7, 6971],\n",
       "       [   8, 7763],\n",
       "       [   9, 8032],\n",
       "       [  10, 9569]])"
      ]
     },
     "execution_count": 1,
     "metadata": {},
     "output_type": "execute_result"
    }
   ],
   "source": [
    "import numpy as np\n",
    "steps_walk=[[1,6012],[2,7079],[3,6886],[4,7230],[5,4598],[6,5564],[7,6971],[8,7763],[9,8032],[10,9569]]\n",
    "steps_walk_arr=np.array(steps_walk)\n",
    "steps_walk_arr"
   ]
  },
  {
   "cell_type": "code",
   "execution_count": 2,
   "id": "f76f8db5",
   "metadata": {},
   "outputs": [
    {
     "data": {
      "text/plain": [
       "array([[   1, 6012],\n",
       "       [   2, 7079],\n",
       "       [   3, 6886],\n",
       "       [   4, 7230],\n",
       "       [   5, 4598],\n",
       "       [   6, 5564],\n",
       "       [   7, 6971],\n",
       "       [   8, 7763],\n",
       "       [   9, 8032],\n",
       "       [  10, 9569]])"
      ]
     },
     "execution_count": 2,
     "metadata": {},
     "output_type": "execute_result"
    }
   ],
   "source": [
    "import numpy as np\n",
    "#creating a 2d array\n",
    "Day_number=np.arange(1,11)\n",
    "steps_walk=[6012,7079,6886,7230,4598,5564,6971,7763,8032,9569]\n",
    "arr=np.array([Day_number,steps_walk])\n",
    "arr=arr.T\n",
    "arr"
   ]
  },
  {
   "cell_type": "code",
   "execution_count": 3,
   "id": "85d5806b",
   "metadata": {},
   "outputs": [
    {
     "data": {
      "text/plain": [
       "array([[    1,  8012],\n",
       "       [    2,  9079],\n",
       "       [    3,  8886],\n",
       "       [    4,  9230],\n",
       "       [    5,  6598],\n",
       "       [    6,  7564],\n",
       "       [    7,  8971],\n",
       "       [    8,  9763],\n",
       "       [    9, 10032],\n",
       "       [   10, 11569]])"
      ]
     },
     "execution_count": 3,
     "metadata": {},
     "output_type": "execute_result"
    }
   ],
   "source": [
    "new_arr=arr[:,1]+2000\n",
    "arr[:,1]=new_arr\n",
    "arr"
   ]
  },
  {
   "cell_type": "code",
   "execution_count": 4,
   "id": "eae55067",
   "metadata": {},
   "outputs": [
    {
     "data": {
      "text/plain": [
       "array([[    2,  9079],\n",
       "       [    4,  9230],\n",
       "       [    8,  9763],\n",
       "       [    9, 10032],\n",
       "       [   10, 11569]])"
      ]
     },
     "execution_count": 4,
     "metadata": {},
     "output_type": "execute_result"
    }
   ],
   "source": [
    "matched=arr[:,1]>9000\n",
    "matched\n",
    "new_arr=arr[matched]\n",
    "new_arr"
   ]
  },
  {
   "cell_type": "code",
   "execution_count": 97,
   "id": "7c432bbf",
   "metadata": {},
   "outputs": [
    {
     "ename": "IndexError",
     "evalue": "too many indices for array: array is 1-dimensional, but 2 were indexed",
     "output_type": "error",
     "traceback": [
      "\u001b[1;31m---------------------------------------------------------------------------\u001b[0m",
      "\u001b[1;31mIndexError\u001b[0m                                Traceback (most recent call last)",
      "Cell \u001b[1;32mIn[97], line 1\u001b[0m\n\u001b[1;32m----> 1\u001b[0m sortedArr\u001b[38;5;241m=\u001b[39marr[arr[:,\u001b[38;5;241m1\u001b[39m]\u001b[38;5;241m.\u001b[39margsort()]\n\u001b[0;32m      2\u001b[0m \u001b[38;5;28mprint\u001b[39m(\u001b[38;5;124m'\u001b[39m\u001b[38;5;124msorted 2d numpy array\u001b[39m\u001b[38;5;124m'\u001b[39m)\n\u001b[0;32m      3\u001b[0m \u001b[38;5;28mprint\u001b[39m(sortedArr)\n",
      "\u001b[1;31mIndexError\u001b[0m: too many indices for array: array is 1-dimensional, but 2 were indexed"
     ]
    }
   ],
   "source": [
    "sortedArr=arr[arr[:,1].argsort()]\n",
    "print('sorted 2d numpy array')\n",
    "print(sortedArr)"
   ]
  },
  {
   "cell_type": "code",
   "execution_count": 93,
   "id": "551e0fac",
   "metadata": {},
   "outputs": [
    {
     "name": "stdout",
     "output_type": "stream",
     "text": [
      "10\n"
     ]
    }
   ],
   "source": [
    "#Array Aggregation Function\n",
    "#np.sum()\n",
    "import numpy as np\n",
    "arr8=([[1,2],[3,4]])\n",
    "arr8_arr=np.array(arr8)\n",
    "print(np.sum(arr8))"
   ]
  },
  {
   "cell_type": "code",
   "execution_count": 9,
   "id": "b55f0d77",
   "metadata": {},
   "outputs": [
    {
     "name": "stdout",
     "output_type": "stream",
     "text": [
      "[4 6]\n"
     ]
    }
   ],
   "source": [
    "arr8=([[1,2],[3,4]])\n",
    "arr8_arr=np.array(arr8)\n",
    "print(np.sum(arr8,axis=0))"
   ]
  },
  {
   "cell_type": "code",
   "execution_count": 10,
   "id": "0e4e1fd9",
   "metadata": {},
   "outputs": [
    {
     "name": "stdout",
     "output_type": "stream",
     "text": [
      "[3 7]\n"
     ]
    }
   ],
   "source": [
    "arr8=([[1,2],[3,4]])\n",
    "arr8_arr=np.array(arr8)\n",
    "print(np.sum(arr8,axis=1))"
   ]
  },
  {
   "cell_type": "code",
   "execution_count": 11,
   "id": "1e905920",
   "metadata": {},
   "outputs": [
    {
     "name": "stdout",
     "output_type": "stream",
     "text": [
      "2.5\n"
     ]
    }
   ],
   "source": [
    "#np.mean()\n",
    "import numpy as np\n",
    "arr8=([[1,2],[3,4]])\n",
    "arr8_arr=np.array(arr8)\n",
    "print(np.mean(arr8))"
   ]
  },
  {
   "cell_type": "code",
   "execution_count": 12,
   "id": "adbf3927",
   "metadata": {},
   "outputs": [
    {
     "name": "stdout",
     "output_type": "stream",
     "text": [
      "[2. 3.]\n"
     ]
    }
   ],
   "source": [
    "arr8=([[1,2],[3,4]])\n",
    "arr8_arr=np.array(arr8)\n",
    "print(np.mean(arr8,axis=0))"
   ]
  },
  {
   "cell_type": "code",
   "execution_count": 13,
   "id": "27a1ccd2",
   "metadata": {},
   "outputs": [
    {
     "name": "stdout",
     "output_type": "stream",
     "text": [
      "[1.5 3.5]\n"
     ]
    }
   ],
   "source": [
    "arr8=([[1,2],[3,4]])\n",
    "arr8_arr=np.array(arr8)\n",
    "print(np.mean(arr8,axis=1))"
   ]
  },
  {
   "cell_type": "code",
   "execution_count": 14,
   "id": "59b15cf0",
   "metadata": {},
   "outputs": [
    {
     "name": "stdout",
     "output_type": "stream",
     "text": [
      "4\n"
     ]
    }
   ],
   "source": [
    "#np.max()and np.min()\n",
    "import numpy as np\n",
    "x=([[1,2],[3,4]])\n",
    "x_arr=np.array(x)\n",
    "print(np.max(x))"
   ]
  },
  {
   "cell_type": "code",
   "execution_count": 15,
   "id": "9af31b3a",
   "metadata": {},
   "outputs": [
    {
     "name": "stdout",
     "output_type": "stream",
     "text": [
      "[3 4]\n"
     ]
    }
   ],
   "source": [
    "x=([[1,2],[3,4]])\n",
    "x_arr=np.array(x)\n",
    "print(np.max(x,axis=0))"
   ]
  },
  {
   "cell_type": "code",
   "execution_count": 16,
   "id": "fda8a15d",
   "metadata": {},
   "outputs": [
    {
     "name": "stdout",
     "output_type": "stream",
     "text": [
      "[2 4]\n"
     ]
    }
   ],
   "source": [
    "x=([[1,2],[3,4]])\n",
    "x_arr=np.array(x)\n",
    "print(np.max(x,axis=1))"
   ]
  },
  {
   "cell_type": "code",
   "execution_count": 17,
   "id": "06e0090a",
   "metadata": {},
   "outputs": [
    {
     "name": "stdout",
     "output_type": "stream",
     "text": [
      "1\n"
     ]
    }
   ],
   "source": [
    "x=([[1,2],[3,4]])\n",
    "x_arr=np.array(x)\n",
    "print(np.min(x))"
   ]
  },
  {
   "cell_type": "code",
   "execution_count": 19,
   "id": "12d0d594",
   "metadata": {},
   "outputs": [
    {
     "name": "stdout",
     "output_type": "stream",
     "text": [
      "[1 2]\n"
     ]
    }
   ],
   "source": [
    "x=([[1,2],[3,4]])\n",
    "x_arr=np.array(x)\n",
    "print(np.min(x,axis=0))"
   ]
  },
  {
   "cell_type": "code",
   "execution_count": 20,
   "id": "37a49cc9",
   "metadata": {},
   "outputs": [
    {
     "name": "stdout",
     "output_type": "stream",
     "text": [
      "[1 3]\n"
     ]
    }
   ],
   "source": [
    "x=([[1,2],[3,4]])\n",
    "x_arr=np.array(x)\n",
    "print(np.min(x,axis=1))"
   ]
  },
  {
   "cell_type": "code",
   "execution_count": 21,
   "id": "a9939ec2",
   "metadata": {},
   "outputs": [
    {
     "name": "stdout",
     "output_type": "stream",
     "text": [
      "2.5\n"
     ]
    }
   ],
   "source": [
    "#np.median()\n",
    "import numpy as np\n",
    "y=([[1,2],[3,4]])\n",
    "y_arr=np.array(y)\n",
    "print(np.median(y))"
   ]
  },
  {
   "cell_type": "code",
   "execution_count": 22,
   "id": "56ea7d7c",
   "metadata": {},
   "outputs": [
    {
     "name": "stdout",
     "output_type": "stream",
     "text": [
      "[2. 3.]\n"
     ]
    }
   ],
   "source": [
    "y=([[1,2],[3,4]])\n",
    "y_arr=np.array(y)\n",
    "print(np.median(y,axis=0))"
   ]
  },
  {
   "cell_type": "code",
   "execution_count": 23,
   "id": "365c00d2",
   "metadata": {},
   "outputs": [
    {
     "name": "stdout",
     "output_type": "stream",
     "text": [
      "[1.5 3.5]\n"
     ]
    }
   ],
   "source": [
    "y=([[1,2],[3,4]])\n",
    "y_arr=np.array(y)\n",
    "print(np.median(y,axis=1))"
   ]
  },
  {
   "cell_type": "code",
   "execution_count": 24,
   "id": "c900045f",
   "metadata": {},
   "outputs": [
    {
     "name": "stdout",
     "output_type": "stream",
     "text": [
      "24\n"
     ]
    }
   ],
   "source": [
    "#np.prod()\n",
    "import numpy as np\n",
    "z=([[1,2],[3,4]])\n",
    "z_arr=np.array(z)\n",
    "print(np.prod(z))"
   ]
  },
  {
   "cell_type": "code",
   "execution_count": 25,
   "id": "70a908db",
   "metadata": {},
   "outputs": [
    {
     "name": "stdout",
     "output_type": "stream",
     "text": [
      "[3 8]\n"
     ]
    }
   ],
   "source": [
    "z=([[1,2],[3,4]])\n",
    "z_arr=np.array(z)\n",
    "print(np.prod(z,axis=0))"
   ]
  },
  {
   "cell_type": "code",
   "execution_count": 26,
   "id": "36d2ac3e",
   "metadata": {},
   "outputs": [
    {
     "name": "stdout",
     "output_type": "stream",
     "text": [
      "[ 2 12]\n"
     ]
    }
   ],
   "source": [
    "z=([[1,2],[3,4]])\n",
    "z_arr=np.array(z)\n",
    "print(np.prod(z,axis=1))"
   ]
  },
  {
   "cell_type": "code",
   "execution_count": 28,
   "id": "7b937765",
   "metadata": {},
   "outputs": [
    {
     "name": "stdout",
     "output_type": "stream",
     "text": [
      "1.118033988749895\n"
     ]
    }
   ],
   "source": [
    "#np.std()\n",
    "import numpy as np\n",
    "array=([[1,2],[3,4]])\n",
    "array_arr=np.array(array)\n",
    "print(np.std(array))"
   ]
  },
  {
   "cell_type": "code",
   "execution_count": 29,
   "id": "282a2d81",
   "metadata": {},
   "outputs": [
    {
     "name": "stdout",
     "output_type": "stream",
     "text": [
      "[1. 1.]\n"
     ]
    }
   ],
   "source": [
    "array=([[1,2],[3,4]])\n",
    "array_arr=np.array(array)\n",
    "print(np.std(array,axis=0))"
   ]
  },
  {
   "cell_type": "code",
   "execution_count": 30,
   "id": "9914e16e",
   "metadata": {},
   "outputs": [
    {
     "name": "stdout",
     "output_type": "stream",
     "text": [
      "[0.5 0.5]\n"
     ]
    }
   ],
   "source": [
    "array=([[1,2],[3,4]])\n",
    "array_arr=np.array(array)\n",
    "print(np.std(array,axis=1))"
   ]
  },
  {
   "cell_type": "code",
   "execution_count": 31,
   "id": "ce9631de",
   "metadata": {},
   "outputs": [
    {
     "name": "stdout",
     "output_type": "stream",
     "text": [
      "1.25\n"
     ]
    }
   ],
   "source": [
    "#np.var()\n",
    "import numpy as np\n",
    "array=([[1,2],[3,4]])\n",
    "array_arr=np.array(array)\n",
    "print(np.var(array))"
   ]
  },
  {
   "cell_type": "code",
   "execution_count": 32,
   "id": "9c610a5c",
   "metadata": {},
   "outputs": [
    {
     "name": "stdout",
     "output_type": "stream",
     "text": [
      "[1. 1.]\n"
     ]
    }
   ],
   "source": [
    "array=([[1,2],[3,4]])\n",
    "array_arr=np.array(array)\n",
    "print(np.var(array,axis=0))"
   ]
  },
  {
   "cell_type": "code",
   "execution_count": 33,
   "id": "b15dd594",
   "metadata": {},
   "outputs": [
    {
     "name": "stdout",
     "output_type": "stream",
     "text": [
      "[0.25 0.25]\n"
     ]
    }
   ],
   "source": [
    "array=([[1,2],[3,4]])\n",
    "array_arr=np.array(array)\n",
    "print(np.var(array,axis=1))"
   ]
  },
  {
   "cell_type": "code",
   "execution_count": 35,
   "id": "19187b51",
   "metadata": {},
   "outputs": [
    {
     "name": "stdout",
     "output_type": "stream",
     "text": [
      "[5 7 9]\n"
     ]
    }
   ],
   "source": [
    "#Vectorized Operation\n",
    "#Element-wise addition:\n",
    "import numpy as np\n",
    "arr1=np.array([1,2,3])\n",
    "arr2=np.array([4,5,6])\n",
    "result=arr1+arr2\n",
    "print(result)"
   ]
  },
  {
   "cell_type": "code",
   "execution_count": 36,
   "id": "210ef913",
   "metadata": {},
   "outputs": [
    {
     "name": "stdout",
     "output_type": "stream",
     "text": [
      "[-3 -3 -3]\n"
     ]
    }
   ],
   "source": [
    "#Element-wise subtraction:\n",
    "arr1=np.array([1,2,3])\n",
    "arr2=np.array([4,5,6])\n",
    "result=arr1-arr2\n",
    "print(result)"
   ]
  },
  {
   "cell_type": "code",
   "execution_count": 37,
   "id": "1da6ea8c",
   "metadata": {},
   "outputs": [
    {
     "name": "stdout",
     "output_type": "stream",
     "text": [
      "[ 4 10 18]\n"
     ]
    }
   ],
   "source": [
    "#Element-wise multiplication:\n",
    "arr1=np.array([1,2,3])\n",
    "arr2=np.array([4,5,6])\n",
    "result=arr1*arr2\n",
    "print(result)"
   ]
  },
  {
   "cell_type": "code",
   "execution_count": 50,
   "id": "2f31df75",
   "metadata": {},
   "outputs": [
    {
     "name": "stdout",
     "output_type": "stream",
     "text": [
      "[2. 2. 2.]\n"
     ]
    }
   ],
   "source": [
    "#Element-wise division:\n",
    "arr1=np.array([4,6,8])\n",
    "arr2=np.array([2,3,4])\n",
    "result=arr1/arr2\n",
    "print(result)"
   ]
  },
  {
   "cell_type": "code",
   "execution_count": 57,
   "id": "95033ddf",
   "metadata": {},
   "outputs": [
    {
     "name": "stdout",
     "output_type": "stream",
     "text": [
      "[ 4  9 16]\n"
     ]
    }
   ],
   "source": [
    "#Element-wise exponentiation:\n",
    "arr=np.array([2,3,4])\n",
    "result=arr**2\n",
    "print(result)"
   ]
  },
  {
   "cell_type": "code",
   "execution_count": 58,
   "id": "38c1a531",
   "metadata": {},
   "outputs": [
    {
     "name": "stdout",
     "output_type": "stream",
     "text": [
      "[2. 3. 4.]\n"
     ]
    }
   ],
   "source": [
    "#Element-wise square root:\n",
    "arr=np.array([4,9,16])\n",
    "result=np.sqrt(arr)\n",
    "print(result)"
   ]
  },
  {
   "cell_type": "code",
   "execution_count": 59,
   "id": "2beb5b7b",
   "metadata": {},
   "outputs": [
    {
     "name": "stdout",
     "output_type": "stream",
     "text": [
      "[False  True False]\n"
     ]
    }
   ],
   "source": [
    "#Element-wise comparison:\n",
    "arr1=np.array([1,2,3])\n",
    "arr2=np.array([2,2,2])\n",
    "result=arr1==arr2\n",
    "print(result)"
   ]
  },
  {
   "cell_type": "code",
   "execution_count": 61,
   "id": "f7189616",
   "metadata": {},
   "outputs": [
    {
     "name": "stdout",
     "output_type": "stream",
     "text": [
      "3.5\n",
      "[0.81649658 0.81649658]\n",
      "[5 7 9]\n"
     ]
    }
   ],
   "source": [
    "#statistical function:\n",
    "import numpy as np\n",
    "arr=np.array([[1,2,3],[4,5,6]])\n",
    "result_mean=np.mean(arr)\n",
    "result_std=np.std(arr,axis=1)\n",
    "result_sum=np.sum(arr,axis=0)\n",
    "print(result_mean)\n",
    "print(result_std)\n",
    "print(result_sum)"
   ]
  },
  {
   "cell_type": "code",
   "execution_count": 62,
   "id": "2e4c244d",
   "metadata": {},
   "outputs": [
    {
     "name": "stdout",
     "output_type": "stream",
     "text": [
      "[2. 5. 6.]\n"
     ]
    }
   ],
   "source": [
    "#Element-wise rounding:\n",
    "import numpy as np\n",
    "arr=np.array([2.3,4.7,6.1])\n",
    "result=np.round(arr)\n",
    "print(result)"
   ]
  },
  {
   "cell_type": "code",
   "execution_count": 63,
   "id": "a15fb21e",
   "metadata": {},
   "outputs": [
    {
     "name": "stdout",
     "output_type": "stream",
     "text": [
      "[ 4  9 16]\n"
     ]
    }
   ],
   "source": [
    "#Element-wise exponeniation with a scalar:\n",
    "arr=np.array([2,3,4])\n",
    "result=np.power(arr,2)\n",
    "print(result)"
   ]
  },
  {
   "cell_type": "code",
   "execution_count": 64,
   "id": "d044230a",
   "metadata": {},
   "outputs": [
    {
     "name": "stdout",
     "output_type": "stream",
     "text": [
      "[1 0 0]\n"
     ]
    }
   ],
   "source": [
    "#Element-wise comparison and conditional assignment:\n",
    "arr=np.array([1,5,10])\n",
    "result=np.where(arr<5,arr,0)\n",
    "print(result)"
   ]
  },
  {
   "cell_type": "code",
   "execution_count": 66,
   "id": "602e4c39",
   "metadata": {},
   "outputs": [
    {
     "name": "stdout",
     "output_type": "stream",
     "text": [
      "[ 1  3  6 10 15]\n"
     ]
    }
   ],
   "source": [
    "#Element-wise cumulative sum:\n",
    "arr=np.array([1,2,3,4,5])\n",
    "result=np.cumsum(arr)\n",
    "print(result)"
   ]
  },
  {
   "cell_type": "code",
   "execution_count": 67,
   "id": "0395744a",
   "metadata": {},
   "outputs": [
    {
     "name": "stdout",
     "output_type": "stream",
     "text": [
      "[1 2 3 4 5]\n"
     ]
    }
   ],
   "source": [
    "#Element-wise sorting:\n",
    "arr=np.array([3,1,4,2,5])\n",
    "result=np.sort(arr)\n",
    "print(result)"
   ]
  },
  {
   "cell_type": "code",
   "execution_count": 68,
   "id": "a41efa88",
   "metadata": {},
   "outputs": [
    {
     "name": "stdout",
     "output_type": "stream",
     "text": [
      "[[ 4  2 -1  4]\n",
      " [ 3 -3  0 -1]]\n"
     ]
    }
   ],
   "source": [
    "#Vectorized operation exercise:\n",
    "import numpy as np\n",
    "s_x=np.array([[2,5,6,5],[4,8,6,5]])\n",
    "s_y=np.array([[6,7,5,9],[7,5,6,4]])\n",
    "quarterly_difference=s_y-s_x\n",
    "print(quarterly_difference)"
   ]
  },
  {
   "cell_type": "code",
   "execution_count": 69,
   "id": "80188f24",
   "metadata": {},
   "outputs": [
    {
     "name": "stdout",
     "output_type": "stream",
     "text": [
      "[[False False False False]\n",
      " [False False False False]]\n"
     ]
    }
   ],
   "source": [
    "s_x=np.array([[2,5,6,5],[4,8,6,5]])\n",
    "s_y=np.array([[6,7,5,9],[7,5,6,4]])\n",
    "less_than_2=s_x<2\n",
    "print(less_than_2)"
   ]
  },
  {
   "cell_type": "code",
   "execution_count": 70,
   "id": "06a20c79",
   "metadata": {},
   "outputs": [
    {
     "name": "stdout",
     "output_type": "stream",
     "text": [
      "[[ 2  7 13 18]\n",
      " [ 4 12 18 23]]\n"
     ]
    }
   ],
   "source": [
    "s_x=np.array([[2,5,6,5],[4,8,6,5]])\n",
    "s_y=np.array([[6,7,5,9],[7,5,6,4]])\n",
    "x_cumsum=np.cumsum(s_x,axis=1)\n",
    "print(x_cumsum)"
   ]
  },
  {
   "cell_type": "code",
   "execution_count": 90,
   "id": "cc66f313",
   "metadata": {},
   "outputs": [
    {
     "name": "stdout",
     "output_type": "stream",
     "text": [
      "[[ 6 13 18 27]\n",
      " [ 7 12 18 22]]\n"
     ]
    }
   ],
   "source": [
    "s_x=np.array([[2,5,6,5],[4,8,6,5]])\n",
    "s_y=np.array([[6,7,5,9],[7,5,6,4]])\n",
    "y_cumsum=np.cumsum(s_y,axis=1)\n",
    "print(y_cumsum)"
   ]
  },
  {
   "cell_type": "code",
   "execution_count": 74,
   "id": "d1275cc0",
   "metadata": {},
   "outputs": [
    {
     "name": "stdout",
     "output_type": "stream",
     "text": [
      "[[False False False  True]\n",
      " [False False False False]]\n"
     ]
    }
   ],
   "source": [
    "s_x=np.array([[2,5,6,5],[4,8,6,5]])\n",
    "s_y=np.array([[6,7,5,9],[7,5,6,4]])\n",
    "greater_than_8=s_y>=8\n",
    "print(greater_than_8)"
   ]
  },
  {
   "cell_type": "code",
   "execution_count": 75,
   "id": "53d0d1fd",
   "metadata": {},
   "outputs": [
    {
     "name": "stdout",
     "output_type": "stream",
     "text": [
      "[4.5  5.75]\n"
     ]
    }
   ],
   "source": [
    "s_x=np.array([[2,5,6,5],[4,8,6,5]])\n",
    "s_y=np.array([[6,7,5,9],[7,5,6,4]])\n",
    "yearly_mean_x=np.mean(s_x,axis=1)\n",
    "print(yearly_mean_x)"
   ]
  },
  {
   "cell_type": "code",
   "execution_count": 79,
   "id": "fa91dc4d",
   "metadata": {},
   "outputs": [
    {
     "name": "stdout",
     "output_type": "stream",
     "text": [
      "[6.5 6.  5.5 6.5]\n"
     ]
    }
   ],
   "source": [
    "s_x=np.array([[2,5,6,5],[4,8,6,5]])\n",
    "s_y=np.array([[6,7,5,9],[7,5,6,4]])\n",
    "quarterly_mean_y=np.mean(s_y,axis=0)\n",
    "print(quarterly_mean_y)"
   ]
  },
  {
   "cell_type": "code",
   "execution_count": 80,
   "id": "8962da5e",
   "metadata": {},
   "outputs": [
    {
     "name": "stdout",
     "output_type": "stream",
     "text": [
      "[1, 4, 9, 16, 25]\n"
     ]
    }
   ],
   "source": [
    "#Use Map,Filter,Reduce and Lambda Function with Numpy\n",
    "#Map:\n",
    "numbers=[1,2,3,4,5]\n",
    "squared_numbers=map(lambda x:x ** 2,numbers)\n",
    "print(list(squared_numbers))"
   ]
  },
  {
   "cell_type": "code",
   "execution_count": 81,
   "id": "a4efce27",
   "metadata": {},
   "outputs": [
    {
     "name": "stdout",
     "output_type": "stream",
     "text": [
      "[2, 4]\n"
     ]
    }
   ],
   "source": [
    "#Filter\n",
    "numbers=[1,2,3,4,5]\n",
    "even_numbers=filter(lambda x:x % 2==0,numbers)\n",
    "print(list(even_numbers))"
   ]
  },
  {
   "cell_type": "code",
   "execution_count": 89,
   "id": "8b1f737d",
   "metadata": {},
   "outputs": [
    {
     "name": "stdout",
     "output_type": "stream",
     "text": [
      "15\n"
     ]
    }
   ],
   "source": [
    "#Reduce\n",
    "from functools import reduce\n",
    "numbers=[1,2,3,4,5]\n",
    "#summing all the numbers using reduce()\n",
    "sum_of_numbers = reduce(lambda x,y:x+y,numbers)\n",
    "print(sum_of_numbers)"
   ]
  },
  {
   "cell_type": "code",
   "execution_count": 84,
   "id": "1addc59e",
   "metadata": {},
   "outputs": [
    {
     "name": "stdout",
     "output_type": "stream",
     "text": [
      "25\n"
     ]
    }
   ],
   "source": [
    "#Lambda function\n",
    "numbers=[1,2,3,4,5]\n",
    "square=lambda x:x ** 2\n",
    "print(square(5))"
   ]
  },
  {
   "cell_type": "code",
   "execution_count": null,
   "id": "2e30f44c",
   "metadata": {},
   "outputs": [],
   "source": []
  }
 ],
 "metadata": {
  "kernelspec": {
   "display_name": "Python 3 (ipykernel)",
   "language": "python",
   "name": "python3"
  },
  "language_info": {
   "codemirror_mode": {
    "name": "ipython",
    "version": 3
   },
   "file_extension": ".py",
   "mimetype": "text/x-python",
   "name": "python",
   "nbconvert_exporter": "python",
   "pygments_lexer": "ipython3",
   "version": "3.11.3"
  }
 },
 "nbformat": 4,
 "nbformat_minor": 5
}
